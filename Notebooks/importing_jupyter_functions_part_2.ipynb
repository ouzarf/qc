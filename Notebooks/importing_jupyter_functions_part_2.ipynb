{
 "cells": [
  {
   "cell_type": "markdown",
   "metadata": {},
   "source": [
    "**Importing Jupyter Notebooks as Modules**\n",
    "\n",
    "This example shows how functions defined in a Jupyter notebook can be\n",
    "imported\n",
    "- Part 2: this file imports the functions defined in the notebook in Part 1"
   ]
  },
  {
   "cell_type": "code",
   "execution_count": 1,
   "metadata": {},
   "outputs": [
    {
     "name": "stdout",
     "output_type": "stream",
     "text": [
      "About to call a function defined in a Jupyter notebook\n",
      "In my_func(), message is  called from example_2\n"
     ]
    }
   ],
   "source": [
    "import os, sys\n",
    "\n",
    "# Add the parent directory to the search path when importing modules\n",
    "module_path = os.path.abspath(os.path.join('..'))\n",
    "if module_path not in sys.path:\n",
    "    sys.path.append(module_path)\n",
    "    \n",
    "# Import tools that enable functions defined in a Jupyter notebook to be imported\n",
    "import notebook_tools\n",
    "sys.meta_path.append(notebook_tools.NotebookFinder())\n",
    "    \n",
    "# Import functions defined in a Jupyter notebook\n",
    "import importing_jupyter_functions_part_1\n",
    "\n",
    "print(\"About to call a function defined in a Jupyter notebook\")\n",
    "importing_jupyter_functions_part_1.my_func(\"called from example_2\")"
   ]
  },
  {
   "cell_type": "code",
   "execution_count": null,
   "metadata": {},
   "outputs": [],
   "source": []
  },
  {
   "cell_type": "code",
   "execution_count": null,
   "metadata": {},
   "outputs": [],
   "source": []
  }
 ],
 "metadata": {
  "kernelspec": {
   "display_name": "Python 3",
   "language": "python",
   "name": "python3"
  },
  "language_info": {
   "codemirror_mode": {
    "name": "ipython",
    "version": 3
   },
   "file_extension": ".py",
   "mimetype": "text/x-python",
   "name": "python",
   "nbconvert_exporter": "python",
   "pygments_lexer": "ipython3",
   "version": "3.7.3"
  }
 },
 "nbformat": 4,
 "nbformat_minor": 2
}
