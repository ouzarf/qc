{
 "cells": [
  {
   "cell_type": "markdown",
   "metadata": {},
   "source": [
    "**This notebook demonstrates basic gates and measurement**\n",
    "$$\n",
    "   \\newcommand{\\braket}[2]{\\left\\langle{#1}\\middle|{#2}\\right\\rangle}\n",
    "   \\newcommand{\\ket}[1]{\\left|{#1}\\right\\rangle}\n",
    "   \\newcommand{\\bra}[1]{\\left\\langle{#1}\\right|}\n",
    "$$\n",
    "For multi-qubit states, we use notation:\n",
    "    $$\\ket{n...21}$$\n",
    "where $1$ is the first qubit, $2$ is the second qubit, $...$, $n$ is the last qubit. When displaying the circuit, the first qubit is at the top."
   ]
  },
  {
   "cell_type": "code",
   "execution_count": 1,
   "metadata": {},
   "outputs": [],
   "source": [
    "import os, sys\n",
    "%matplotlib inline\n",
    "import matplotlib.pyplot as plt\n",
    "from qiskit import *\n",
    "from qiskit.compiler import transpile, assemble\n",
    "from qiskit import QuantumRegister, ClassicalRegister\n",
    "from qiskit import QuantumCircuit, execute, Aer, IBMQ\n",
    "from qiskit.tools.visualization import plot_histogram\n",
    "\n",
    "# Import local tools\n",
    "module_path = os.path.abspath(os.path.join('..'))\n",
    "if module_path not in sys.path:\n",
    "    sys.path.append(module_path)\n",
    "import backend_tools\n",
    "\n",
    "# Get a backend\n",
    "IBMQ.load_accounts()\n",
    "simulator = backend_tools.get_device(use_sim=True, min_qubits=5)"
   ]
  },
  {
   "cell_type": "markdown",
   "metadata": {},
   "source": [
    "$X$ or $NOT$ gate\n",
    "- is the NOT gate, or equivalently;\n",
    "- $\\pi$ rotation about the Bloch-sphere x-axis.\n",
    "\n",
    "In the standard basis, the unitary matrix representing $X$ is:\n",
    "$$\n",
    "\\begin{pmatrix}\n",
    "0 & 1\\\\\n",
    "1 & 0\\\\\n",
    "\\end{pmatrix}\n",
    "$$\n",
    "\n",
    "Note: measurement along the standard basis Bloch-sphere z-axis cannot provide any information about the qubit phase"
   ]
  },
  {
   "cell_type": "code",
   "execution_count": 2,
   "metadata": {},
   "outputs": [
    {
     "data": {
      "image/png": "[encoded data removed]",
      "text/plain": [
       "<Figure size 361.2x138.46 with 1 Axes>"
      ]
     },
     "execution_count": 2,
     "metadata": {},
     "output_type": "execute_result"
    }
   ],
   "source": [
    "# Define the quantum circuit\n",
    "q = QuantumRegister(1, 'q')\n",
    "c = ClassicalRegister(1, 'c')\n",
    "circuit = QuantumCircuit(q, c)\n",
    "\n",
    "# Apply the quantum gates\n",
    "circuit.x(q[0])\n",
    "\n",
    "# Finish off with the measurement along the z-axis\n",
    "circuit.measure(q, c)\n",
    "\n",
    "# Draw the circuit\n",
    "circuit.draw(output=\"mpl\")"
   ]
  },
  {
   "cell_type": "code",
   "execution_count": 3,
   "metadata": {},
   "outputs": [
    {
     "data": {
      "image/png": "[encoded data removed]",
      "text/plain": [
       "<Figure size 504x360 with 1 Axes>"
      ]
     },
     "execution_count": 3,
     "metadata": {},
     "output_type": "execute_result"
    }
   ],
   "source": [
    "# Simulate or run the circuit\n",
    "job = execute(circuit, backend=simulator, shots=1024)\n",
    "result = job.result()\n",
    "\n",
    "# Plot a histogram of the results\n",
    "counts = result.get_counts(circuit)\n",
    "plot_histogram(counts)"
   ]
  },
  {
   "cell_type": "markdown",
   "metadata": {},
   "source": [
    "$H$ gate\n",
    "- creates a superposition and is used to create the $\\{\\ket{+}, \\ket{-}\\}$ basis\n",
    "- $\\pi$ rotation about the Bloch-sphere x+z-axis.\n",
    "\n",
    "It is also used for measurement about the Bloch-sphere x-axis:\n",
    "- we can't physically measure along the x-axis, so we use $H$ to rotate the component of the qubit along the x-axis so that it points along the z-axis (which can be measured).\n",
    "\n",
    "To create the Hadamard basis, $\\{\\ket{+}, \\ket{-}\\}$:\n",
    "- apply H to $\\ket{0}$ to create $\\ket{+}$\n",
    "- apply X to $\\ket{0}$ (to create $\\ket{1}$) and then apply $H$ to $\\ket{1}$ to create $\\ket{-}$\n",
    "\n",
    "In the standard basis, the unitary matrix representing $H$ is:\n",
    "$$\n",
    "\\frac{1}{\\sqrt{2}}\n",
    "\\begin{pmatrix}\n",
    "1 & 1\\\\\n",
    "1 & -1\\\\\n",
    "\\end{pmatrix}\n",
    "$$"
   ]
  },
  {
   "cell_type": "markdown",
   "metadata": {},
   "source": [
    "**Create a superposition and measure**"
   ]
  },
  {
   "cell_type": "code",
   "execution_count": 4,
   "metadata": {},
   "outputs": [
    {
     "data": {
      "image/png": "[encoded data removed]",
      "text/plain": [
       "<Figure size 361.2x138.46 with 1 Axes>"
      ]
     },
     "execution_count": 4,
     "metadata": {},
     "output_type": "execute_result"
    }
   ],
   "source": [
    "# Define the quantum circuit\n",
    "q = QuantumRegister(1, 'q')\n",
    "c = ClassicalRegister(1, 'c')\n",
    "circuit = QuantumCircuit(q, c)\n",
    "\n",
    "# Apply the quantum gates\n",
    "circuit.h(q[0])\n",
    "\n",
    "## Finish off with the measurements\n",
    "circuit.measure(q, c)\n",
    "\n",
    "## Draw the circuit\n",
    "circuit.draw(output=\"mpl\")"
   ]
  },
  {
   "cell_type": "code",
   "execution_count": null,
   "metadata": {},
   "outputs": [],
   "source": [
    "# Simulate or run the circuit\n",
    "job = execute(circuit, backend=simulator, shots=1024)\n",
    "result = job.result()\n",
    "\n",
    "# Plot a histogram of the results\n",
    "counts = result.get_counts(circuit)\n",
    "plot_histogram(counts)"
   ]
  },
  {
   "cell_type": "markdown",
   "metadata": {},
   "source": [
    "**Measure in the Bloch-sphere x-axis**"
   ]
  },
  {
   "cell_type": "code",
   "execution_count": null,
   "metadata": {},
   "outputs": [],
   "source": [
    "# Define the quantum circuit\n",
    "q = QuantumRegister(1, 'q')\n",
    "c = ClassicalRegister(1, 'c')\n",
    "circuit = QuantumCircuit(q, c)\n",
    "\n",
    "# Apply the quantum gates\n",
    "# - construct |+>\n",
    "circuit.h(q[0])\n",
    "# - to measure along x-axis, rotate about x+z and then measure along z-axis\n",
    "circuit.h(q[0])\n",
    "\n",
    "## Finish off with the measurements\n",
    "circuit.measure(q, c)\n",
    "\n",
    "## Draw the circuit\n",
    "circuit.draw(output=\"mpl\")"
   ]
  },
  {
   "cell_type": "code",
   "execution_count": null,
   "metadata": {},
   "outputs": [],
   "source": [
    "# Simulate or run the circuit\n",
    "job = execute(circuit, backend=simulator, shots=1024)\n",
    "result = job.result()\n",
    "\n",
    "# Plot a histogram of the results\n",
    "counts = result.get_counts(circuit)\n",
    "plot_histogram(counts)"
   ]
  },
  {
   "cell_type": "markdown",
   "metadata": {},
   "source": [
    "**Gates which impart a complex phase**\n",
    "\n",
    "To construct qubits with a complex component, we can rotate $\\ket{+}$ about the Bloch-sphere z-axis using these gates (*i.e.* phase rotations):\n",
    "- $Z$ gate: $\\pi$ rotation about z-axis. In the standard basis it has represention:\n",
    "$$Z =\n",
    "\\begin{pmatrix}\n",
    "1 & 0\\\\\n",
    "0 & -1\\\\\n",
    "\\end{pmatrix} := T^4\n",
    "$$\n",
    "- $S$ gate: $\\frac{\\pi}{2}$ rotation about z-axis (phase flip). In the standard basis it has represention:\n",
    "$$S =\n",
    "\\begin{pmatrix}\n",
    "1 & 0\\\\\n",
    "0 & i\\\\\n",
    "\\end{pmatrix} := T^2\n",
    "$$\n",
    "- $S^{\\dagger}$ gate: $-\\frac{\\pi}{2}$ rotation about z-axis (phase flip). In the standard basis it has represention:\n",
    "$$S^\\dagger =\n",
    "\\begin{pmatrix}\n",
    "1 & 0\\\\\n",
    "0 & -i\\\\\n",
    "\\end{pmatrix} := T^6\n",
    "$$\n",
    "- $T$ gate: $\\frac{\\pi}{4}$ rotation about z-axis. In the standard basis it has represention:\n",
    "$$T =\n",
    "\\begin{pmatrix}\n",
    "1 & 0\\\\\n",
    "0 & e^{i\\pi/4}\\\\\n",
    "\\end{pmatrix}\n",
    "$$\n",
    "- $T^{\\dagger}$ gate: $-\\frac{\\pi}{4}$ rotation about z-axis. In the standard basis it has represention:\n",
    "$$T^{\\dagger} =\n",
    "\\begin{pmatrix}\n",
    "1 & 0\\\\\n",
    "0 & e^{-i\\pi/4}\\\\\n",
    "\\end{pmatrix} := T^7\n",
    "$$\n",
    "- $Y$ gate: $\\pi$ rotation about z-axis followed by flip (NOT). In the standard basis it has represention:\n",
    "$$Y =\n",
    "\\begin{pmatrix}\n",
    "0 & -i\\\\\n",
    "i & 0\\\\\n",
    "\\end{pmatrix} := XZ\n",
    "$$"
   ]
  },
  {
   "cell_type": "markdown",
   "metadata": {},
   "source": [
    "*Example 1*"
   ]
  },
  {
   "cell_type": "code",
   "execution_count": null,
   "metadata": {},
   "outputs": [],
   "source": [
    "# Define the quantum circuit\n",
    "q = QuantumRegister(1, 'q')\n",
    "c = ClassicalRegister(1, 'c')\n",
    "circuit = QuantumCircuit(q, c)\n",
    "\n",
    "# Apply the quantum gates\n",
    "# - construct |+>\n",
    "circuit.h(q[0])\n",
    "# - rotate by 3.pi/4 about z-axis\n",
    "circuit.s(q[0])\n",
    "circuit.t(q[0])\n",
    "# - to measure along x-axis, rotate about x+z and then measure along z-axis\n",
    "circuit.h(q[0])\n",
    "\n",
    "## Finish off with the measurements\n",
    "circuit.measure(q, c)\n",
    "\n",
    "## Draw the circuit\n",
    "circuit.draw(output=\"mpl\")"
   ]
  },
  {
   "cell_type": "code",
   "execution_count": null,
   "metadata": {},
   "outputs": [],
   "source": [
    "# Simulate or run the circuit\n",
    "job = execute(circuit, backend=simulator, shots=1024)\n",
    "result = job.result()\n",
    "\n",
    "# Plot a histogram of the results\n",
    "counts = result.get_counts(circuit)\n",
    "plot_histogram(counts)"
   ]
  },
  {
   "cell_type": "markdown",
   "metadata": {},
   "source": [
    "*Example 2 - run a series of circuits*\n",
    "\n",
    "Note: this example is taken from the IBM User Guide, but the results don't match those in the Guide"
   ]
  },
  {
   "cell_type": "code",
   "execution_count": null,
   "metadata": {},
   "outputs": [],
   "source": [
    "import numpy as np\n",
    "\n",
    "# Define the quantum circuit\n",
    "q = QuantumRegister(1, 'q')\n",
    "c = ClassicalRegister(1, 'c')\n",
    "\n",
    "# Build a series of circuits:\n",
    "# 1. |+>, followed by measurement in the Hadamard basis\n",
    "# 2. |+>, apply T gate (pi/4 phase rotation), followed by measurement in the Hadamard basis\n",
    "#     ...\n",
    "# 8. |+>, apply seven T gates successively, followed by measurement in the Hadamard basis\n",
    "circuits = []\n",
    "pre = QuantumCircuit(q, c)\n",
    "pre.h(q)\n",
    "pre.barrier()\n",
    "middle = QuantumCircuit(q, c)\n",
    "meas_x = QuantumCircuit(q, c)\n",
    "meas_x.barrier()\n",
    "meas_x.h(q)\n",
    "meas_x.measure(q, c)\n",
    "exp_vector = range(0,8)\n",
    "for exp_index in exp_vector:\n",
    "    circuits.append(pre + middle + meas_x)\n",
    "    middle.t(q)\n",
    "\n",
    "# Execute the circuits\n",
    "shots = 5000\n",
    "job = execute(circuits, backend=simulator, shots=shots, seed_simulator=8)\n",
    "result = job.result()\n",
    "\n",
    "# Print the result\n",
    "T=' '\n",
    "for exp_index in exp_vector:\n",
    "    data = result.get_counts(circuits[exp_index])\n",
    "    try:\n",
    "        p0 = data['0']/shots\n",
    "    except KeyError:\n",
    "        p0 = 0\n",
    "    try:\n",
    "        p1 = data['1']/shots\n",
    "    except KeyError:\n",
    "        p1 = 0\n",
    "    print('Exp {}, |+>,{:8s}, measure: [{:.3f}, {:.3f}] Y length = {:.3f}'.format(exp_index, T, p0, p1, p0-p1))\n",
    "    T += 'T'"
   ]
  },
  {
   "cell_type": "markdown",
   "metadata": {},
   "source": [
    "**Circular basis**\n",
    "\n",
    "The circular basis consists of:\n",
    "$$\n",
    "\\begin{eqnarray}\n",
    "\\ket{\\circlearrowright} &=& \\frac{1}{\\sqrt{2}}\\left(\\ket{0} + i\\ket{1}\\right)\\\\\n",
    "\\ket{\\circlearrowleft} &=& \\frac{1}{\\sqrt{2}}\\left(\\ket{0} - i\\ket{1}\\right)\\\\\n",
    "\\end{eqnarray}\n",
    "$$\n",
    "To create the circular basis from $\\{\\ket{0}$:\n",
    "- apply H to $\\ket{0}$ to create $\\ket{+}$ and then apply $S$ to $\\ket{+}$ to create $\\ket{\\circlearrowright}$\n",
    "- apply H to $\\ket{0}$ to create $\\ket{+}$ and then apply $S^\\dagger$ to $\\ket{+}$ to create $\\ket{\\circlearrowleft}$\n",
    "\n",
    "To measure in this basis we need to rotate the circular basis (Y) onto the computational basis (Z):\n",
    "- reverse the phase rotation, by applying $S^\\dagger$ (taking us to the superposition or Hadamard basis)\n",
    "- appky $H$ to take us to the computational basis. \n"
   ]
  },
  {
   "cell_type": "markdown",
   "metadata": {},
   "source": [
    "*Example - measurement in the circular basis*\n",
    "\n",
    "Note: this example is taken from the IBM User Guide, but the results don't match those in the Guide"
   ]
  },
  {
   "cell_type": "code",
   "execution_count": null,
   "metadata": {},
   "outputs": [],
   "source": [
    "import numpy as np\n",
    "\n",
    "# Define the quantum circuit\n",
    "q = QuantumRegister(1, 'q')\n",
    "c = ClassicalRegister(1, 'c')\n",
    "\n",
    "# Build a series of circuits:\n",
    "# 1. |+>, followed by measurement in the circular basis\n",
    "# 2. |+>, apply T gate (pi/4 phase rotation), followed by measurement in the circular basis\n",
    "#     ...\n",
    "# 8. |+>, apply seven T gates successively, followed by measurement in the circular basis\n",
    "circuits = []\n",
    "pre = QuantumCircuit(q, c)\n",
    "pre.h(q)\n",
    "pre.barrier()\n",
    "middle = QuantumCircuit(q, c)\n",
    "meas_y = QuantumCircuit(q, c)\n",
    "meas_y.barrier()\n",
    "meas_y.sdg(q)\n",
    "meas_y.h(q)\n",
    "meas_y.measure(q, c)\n",
    "exp_vector = range(0,8)\n",
    "for exp_index in exp_vector:\n",
    "    circuits.append(pre + middle + meas_y)\n",
    "    middle.t(q)\n",
    "    \n",
    "# Execute all the circuits\n",
    "shots = 1024\n",
    "job = execute(circuits, backend=simulator, shots=shots, seed_simulator=8)\n",
    "result = job.result()\n",
    "\n",
    "# Print the result\n",
    "T=' '\n",
    "for exp_index in exp_vector:\n",
    "    data = result.get_counts(circuits[exp_index])\n",
    "    try:\n",
    "        p0 = data['0']/shots\n",
    "    except KeyError:\n",
    "        p0 = 0\n",
    "    try:\n",
    "        p1 = data['1']/shots\n",
    "    except KeyError:\n",
    "        p1 = 0\n",
    "    print('Exp {}, |+>,{:8s}, measure: [{:.3f}, {:.3f}] Y length = {:.3f}'.format(exp_index, T, p0, p1, p0-p1))\n",
    "    T += 'T'"
   ]
  },
  {
   "cell_type": "markdown",
   "metadata": {},
   "source": [
    "**Controlled NOT gate**\n",
    "\n",
    "The target qubit is flipped (*i.e.* apply the $NOT$ or $X$ gate) *iff* the control bit is $\\ket{1}$."
   ]
  },
  {
   "cell_type": "code",
   "execution_count": null,
   "metadata": {},
   "outputs": [],
   "source": [
    "# Define the quantum circuit\n",
    "q = QuantumRegister(2, 'q')\n",
    "c = ClassicalRegister(2, 'c')\n",
    "circuit = QuantumCircuit(q, c)\n",
    "\n",
    "# Apply the quantum gates\n",
    "# - construct |01>\n",
    "circuit.x(q[0])\n",
    "# - apply CNOT (the first argument is the control qubit, the second argument is the target qubit)\n",
    "circuit.cx(q[0], q[1])\n",
    "\n",
    "# Finish off with the measurements\n",
    "circuit.measure(q, c)\n",
    "\n",
    "# Draw the circuit\n",
    "circuit.draw(output=\"mpl\")"
   ]
  },
  {
   "cell_type": "code",
   "execution_count": null,
   "metadata": {},
   "outputs": [],
   "source": [
    "# Simulate or run the circuit\n",
    "job = execute(circuit, backend=simulator, shots=1024)\n",
    "result = job.result()\n",
    "\n",
    "# Plot a histogram of the results\n",
    "counts = result.get_counts(circuit)\n",
    "plot_histogram(counts)"
   ]
  }
 ],
 "metadata": {
  "kernelspec": {
   "display_name": "Python 3",
   "language": "python",
   "name": "python3"
  },
  "language_info": {
   "codemirror_mode": {
    "name": "ipython",
    "version": 3
   },
   "file_extension": ".py",
   "mimetype": "text/x-python",
   "name": "python",
   "nbconvert_exporter": "python",
   "pygments_lexer": "ipython3",
   "version": "3.7.3"
  }
 },
 "nbformat": 4,
 "nbformat_minor": 2
}
