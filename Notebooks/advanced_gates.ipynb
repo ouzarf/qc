{
 "cells": [
  {
   "cell_type": "markdown",
   "metadata": {},
   "source": [
    "**This notebook demonstrates advanced gates**\n",
    "$$\n",
    "   \\newcommand{\\braket}[2]{\\left\\langle{#1}\\middle|{#2}\\right\\rangle}\n",
    "   \\newcommand{\\ket}[1]{\\left|{#1}\\right\\rangle}\n",
    "   \\newcommand{\\bra}[1]{\\left\\langle{#1}\\right|}\n",
    "$$\n",
    "\n",
    "The $H$, $S$, $S^\\dagger$, $T$ and $T^\\dagger$ gates are constructed from the general unitary:\n",
    "$$\n",
    "U(\\theta, \\phi, \\lambda) = \n",
    "\\begin{pmatrix}\n",
    "\\cos\\left(\\theta/2\\right) & -e^{i\\lambda} \\sin(\\theta/2) \\\\\n",
    "e^{i\\phi} \\sin(\\theta/2) & e^{i\\lambda + i\\phi} \\cos(\\theta/2)\n",
    "\\end{pmatrix}\n",
    "$$\n",
    "\n",
    "The general unitary can be used to create an arbitrary single-qubit state:\n",
    "$$\n",
    "\\begin{align}\n",
    "\\ket{\\psi} &= U \\ket{0} \\\\\n",
    "&= \\cos(\\theta/2)\\ket{0} + \\sin(\\theta/2)e^{i\\phi}\\ket{1} \n",
    "\\end{align}\n",
    "$$\n",
    "\n",
    "Various choices of $\\theta, \\phi, \\lambda$ lead to three general purpose gates:\n",
    "\n",
    "1. Phase change:\n",
    "$$\n",
    "u1(\\lambda) = U(0,0,\\lambda) = \n",
    "\\begin{pmatrix}\n",
    "1 & 0 \\\\\n",
    "0 & e^{i\\lambda}\n",
    "\\end{pmatrix}\n",
    "$$\n",
    "\n",
    "2. Phase rotation:\n",
    "$$\n",
    "u2(\\phi, \\lambda) = U(\\pi/2,\\phi,\\lambda) = \n",
    "\\begin{pmatrix}\n",
    "1 & -e^{i\\lambda} \\\\\n",
    "e^{i\\phi} & e^{i\\lambda + i\\phi}\n",
    "\\end{pmatrix}\n",
    "$$\n",
    "\n",
    "3. General unitary\n",
    "$$\n",
    "u3(\\theta, \\phi, \\lambda) = U(\\theta, \\phi, \\lambda)\n",
    "$$\n",
    "\n",
    "***\n",
    "*Example: apply a $\\pi/2$ phase rotation to $\\ket{\\circlearrowright}$*\n",
    "$$\n",
    "\\begin{array}{cc}\n",
    "u1(\\pi/2) = \n",
    "\\begin{pmatrix}\n",
    "1 & 0 \\\\\n",
    "0 & i\n",
    "\\end{pmatrix}, \\;and \\;\\;&\n",
    "\\ket{\\circlearrowright} &=& \\frac{1}{\\sqrt{2}}\\left(\\ket{0} + i\\ket{1}\\right)\n",
    "\\end{array}\n",
    "$$\n",
    "In the standard basis:\n",
    "$$\n",
    "\\begin{align}\n",
    "U(0,0,\\pi/2)\\ket{\\circlearrowright} &= \\frac{1}{\\sqrt{2}}\n",
    "\\begin{pmatrix}\n",
    "1 & 0 \\\\\n",
    "0 & i\n",
    "\\end{pmatrix}\n",
    "\\begin{pmatrix}\n",
    "1\\\\\n",
    "i\n",
    "\\end{pmatrix}\n",
    "\\\\\n",
    "&=\n",
    "\\frac{1}{\\sqrt{2}}\n",
    "\\begin{pmatrix}\n",
    "1\\\\\n",
    "-1\n",
    "\\end{pmatrix}\n",
    "\\\\\n",
    "&=\n",
    "\\ket{-}\n",
    "\\end{align}\n",
    "$$"
   ]
  },
  {
   "cell_type": "code",
   "execution_count": 4,
   "metadata": {},
   "outputs": [
    {
     "name": "stderr",
     "output_type": "stream",
     "text": [
      "/home/sjeffrey/anaconda3/envs/Qiskit_Env/lib/python3.7/site-packages/qiskit/providers/ibmq/ibmqprovider.py:272: UserWarning: Credentials are already in use.\n",
      "  warnings.warn('Credentials are already in use.')\n"
     ]
    }
   ],
   "source": [
    "import os, sys\n",
    "from qiskit import *\n",
    "from qiskit.compiler import transpile, assemble\n",
    "from qiskit import QuantumRegister, ClassicalRegister\n",
    "from qiskit import QuantumCircuit, execute, Aer, IBMQ\n",
    "from qiskit.tools.visualization import plot_histogram\n",
    "import numpy as np\n",
    "\n",
    "# Import local tools\n",
    "module_path = os.path.abspath(os.path.join('..'))\n",
    "if module_path not in sys.path:\n",
    "    sys.path.append(module_path)\n",
    "import backend_tools\n",
    "\n",
    "# Get a backend\n",
    "IBMQ.load_accounts()\n",
    "simulator = backend_tools.get_device(use_sim=True, min_qubits=5)"
   ]
  },
  {
   "cell_type": "markdown",
   "metadata": {},
   "source": [
    "*Example: create a set of states with differing phases*"
   ]
  },
  {
   "cell_type": "code",
   "execution_count": 10,
   "metadata": {},
   "outputs": [
    {
     "data": {
      "image/png": "[encoded data removed]",
      "text/plain": [
       "<PIL.Image.Image image mode=RGB size=792x49 at 0x7FB50424E550>"
      ]
     },
     "execution_count": 10,
     "metadata": {},
     "output_type": "execute_result"
    }
   ],
   "source": [
    "# Define the quantum circuit\n",
    "q = QuantumRegister(1, 'q')\n",
    "c = ClassicalRegister(1, 'c')\n",
    "circuit = QuantumCircuit(q, c)\n",
    "\n",
    "# Build the circuits\n",
    "circuits = []\n",
    "middle = QuantumCircuit(q, c)\n",
    "meas = QuantumCircuit(q, c)\n",
    "meas.barrier()\n",
    "meas.measure(q, c)\n",
    "exp_vector = range(0,50)\n",
    "exp_theta = []\n",
    "theta = 0.0\n",
    "for exp_index in exp_vector:\n",
    "    delta_theta = 2*np.pi/len(exp_vector)\n",
    "    theta = theta + delta_theta\n",
    "    exp_theta.append(theta)\n",
    "    middle.u3(delta_theta,0,0,q)\n",
    "    circuits.append(middle + meas)\n",
    "    \n",
    "# Draw a selection of the circuits\n",
    "#DOESN\"T WORK: import matplotlib.pyplot as plt\n",
    "#DOESN\"T WORK: %matplotlib inline\n",
    "#DOESN\"T WORK: #for exp_index in range(0,1):\n",
    "#DOESN\"T WORK:     #print(\"Experiment: {}\".format(exp_index))\n",
    "#DOESN\"T WORK:     #print(\"Type: {} len {}\".format(type()))\n",
    "#DOESN\"T WORK: #    circuits[exp_index].draw(output=\"mpl\")\n",
    "#DOESN\"T WORK: plt.subplots(3, 1)\n",
    "#DOESN\"T WORK: circuits[0].draw(output=\"mpl\")\n",
    "#DOESN\"T WORK: #plt.show()\n",
    "#DOESN\"T WORK: #plt.subplot(3, 1, 2)\n",
    "#DOESN\"T WORK: circuits[0].draw(output=\"mpl\")\n",
    "#DOESN\"T WORK: #plt.subplot(3, 1, 3)\n",
    "#DOESN\"T WORK: circuits[0].draw(output=\"mpl\")\n",
    "#DOESN\"T WORK: #plt.show()\n",
    "\n",
    "# Draw one of the circuits\n",
    "%matplotlib inline\n",
    "# Style only works in matplotlib backend\n",
    "style = {'backgroundcolor': 'lightgreen'}\n",
    "#circuits[5].draw(output='mpl', plot_barriers=True, reverse_bits=True, style=style, scale=0.6)\n",
    "circuits[5].draw(output='latex', plot_barriers=True, reverse_bits=True, scale=0.3)\n"
   ]
  },
  {
   "cell_type": "markdown",
   "metadata": {},
   "source": [
    "In the example below, we use the variability of the sample proportion to show error bars:\n",
    "$$\n",
    "\\sigma = \\sqrt{\\frac{P*(1-P)}{n}} \n",
    "$$\n",
    "See the [description here.](https://stattrek.com/estimation/confidence-interval-proportion.aspx?tutorial=)"
   ]
  },
  {
   "cell_type": "code",
   "execution_count": 3,
   "metadata": {},
   "outputs": [
    {
     "data": {
      "image/png": "[encoded data removed]",
      "text/plain": [
       "<Figure size 432x288 with 1 Axes>"
      ]
     },
     "metadata": {
      "needs_background": "light"
     },
     "output_type": "display_data"
    }
   ],
   "source": [
    "# Simulate or run the circuit\n",
    "shots = 1024\n",
    "job = execute(circuits, backend=simulator, shots=shots, seed_simulator=8)\n",
    "result = job.result()\n",
    "\n",
    "# Plot the result\n",
    "import matplotlib.pyplot as plt\n",
    "exp_data = []\n",
    "exp_error = []\n",
    "for exp_index in exp_vector:\n",
    "    data = result.get_counts(circuits[exp_index])\n",
    "    try:\n",
    "        p0 = data['0']/shots\n",
    "    except KeyError:\n",
    "        p0 = 0\n",
    "    exp_data.append(p0)\n",
    "    exp_error.append(np.sqrt(p0*(1-p0)/shots))\n",
    "\n",
    "plt.errorbar(exp_theta, exp_data, exp_error)\n",
    "plt.xlabel('theta / radians')\n",
    "plt.ylabel('Pr(0)')\n",
    "plt.grid(True)\n",
    "plt.show()"
   ]
  }
 ],
 "metadata": {
  "kernelspec": {
   "display_name": "Python 3",
   "language": "python",
   "name": "python3"
  },
  "language_info": {
   "codemirror_mode": {
    "name": "ipython",
    "version": 3
   },
   "file_extension": ".py",
   "mimetype": "text/x-python",
   "name": "python",
   "nbconvert_exporter": "python",
   "pygments_lexer": "ipython3",
   "version": "3.9.1"
  }
 },
 "nbformat": 4,
 "nbformat_minor": 2
}
